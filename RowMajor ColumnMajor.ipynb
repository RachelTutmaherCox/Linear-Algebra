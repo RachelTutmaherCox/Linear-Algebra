{
 "cells": [
  {
   "cell_type": "markdown",
   "metadata": {},
   "source": [
    "---\n",
    "## Homework 06 - Matrices \n",
    "---\n",
    "\n",
    "This assignment borrowed heavily from a similar assignment given in 2016 by Chris Ketelsen (original was in MATLAB)"
   ]
  },
  {
   "cell_type": "markdown",
   "metadata": {},
   "source": [
    "### Problem 1:\n",
    "\n"
   ]
  },
  {
   "cell_type": "markdown",
   "metadata": {},
   "source": [
    "Write a function called `mat_vec` that takes an $n \\times n$ matrix $A$ and an $n-$vector $x$ as input and returns the product. \n",
    "\n",
    "- Do not use any built in dot products or inner product functions. You'll need a nested for loop.\n",
    "\n",
    "- Use the code provided below, and enter your code where indicated. Note that I am having you time your function for $5000 \\times 5000$ matrix. You will be comparing the time your algorithm takes here without using \"vectorization\" with how much faster it can be by utilizing vectorization. \n",
    "\n",
    "- Once you've written your own function, test it on the following product (code for test already given below): \n",
    "\n",
    "$\\begin{bmatrix} 1 & 1 & 1 \\\\ 2 & 2 & 2 \\\\ 3 & 3 & 3 \\end{bmatrix} \\cdot \\begin{bmatrix} 1 \\\\ 1 \\\\ 1  \\end{bmatrix}$\n"
   ]
  },
  {
   "cell_type": "code",
   "execution_count": 1,
   "metadata": {},
   "outputs": [],
   "source": [
    "import numpy as np\n",
    "import time\n",
    "\n",
    "def mat_vec(A,x):\n",
    "    \n",
    "    # Your code here.\n",
    "    \n",
    "    n = len(x)\n",
    "    b = np.zeros(n)\n",
    "    \n",
    "    for i in range(n):\n",
    "        for j in range(n):\n",
    "            b[i] += A[i,j]*x[j]\n",
    "    \n",
    "    return b\n"
   ]
  },
  {
   "cell_type": "code",
   "execution_count": 2,
   "metadata": {},
   "outputs": [
    {
     "data": {
      "text/plain": [
       "array([3., 6., 9.])"
      ]
     },
     "execution_count": 2,
     "metadata": {},
     "output_type": "execute_result"
    }
   ],
   "source": [
    "# Test your function here:\n",
    "A = np.array([[1,1,1],[2,2,2],[3,3,3]])\n",
    "x = np.array([1,1,1])\n",
    "mat_vec(A,x)"
   ]
  },
  {
   "cell_type": "code",
   "execution_count": 3,
   "metadata": {},
   "outputs": [
    {
     "name": "stdout",
     "output_type": "stream",
     "text": [
      "Your matrix-vector product function took this long: 58.77552390098572\n"
     ]
    }
   ],
   "source": [
    "# Once you've written your function, execute this cell and see how slow loops are in Python!\n",
    "\n",
    "A = np.ones((5000,5000))\n",
    "x = np.ones((5000,1))\n",
    "\n",
    "start = time.time()\n",
    "mat_vec(A,x)\n",
    "elapsed = time.time()-start\n",
    "\n",
    "print(\"Your matrix-vector product function took this long:\",elapsed)"
   ]
  },
  {
   "cell_type": "markdown",
   "metadata": {},
   "source": [
    "### Problem 2: \n",
    "\n",
    "In this problem, you will write two functions to compute the matrix-vector product of an $n \\times n$ matrix $A$ and a column vector $x$, of length $n$."
   ]
  },
  {
   "cell_type": "markdown",
   "metadata": {},
   "source": [
    "**PART A:** Write a function called `axrow` that takes as arguments an $n \\times n$ matrix $A$ and a length $n$ vector $x$ and returns the result of computing the matrix-vector product $b=Ax$ by the row-vector rule. Use vector operations only (that is, don't access elements of  $A$ or $x$  individually.) The value $b$ returned by your function can be a column vector or a row vector."
   ]
  },
  {
   "cell_type": "code",
   "execution_count": 4,
   "metadata": {},
   "outputs": [],
   "source": [
    "def axrow(A,x):\n",
    "    n = len(x)\n",
    "    \n",
    "    b = []\n",
    "    for i in range(n):\n",
    "        b.append(np.dot(A[i,:],x))\n",
    "    return b"
   ]
  },
  {
   "cell_type": "code",
   "execution_count": 5,
   "metadata": {},
   "outputs": [
    {
     "data": {
      "text/plain": [
       "[3, 6, 9]"
      ]
     },
     "execution_count": 5,
     "metadata": {},
     "output_type": "execute_result"
    }
   ],
   "source": [
    "# test\n",
    "A = np.array([[1,1,1],[2,2,2],[3,3,3]])\n",
    "x = np.array([1,1,1])\n",
    "axrow(A,x)"
   ]
  },
  {
   "cell_type": "markdown",
   "metadata": {},
   "source": [
    "**PART B:** Write a function called `axcol` that takes as arguments an $n \\times n$ matrix $A$, and a length $n$ vector $x$ and returns thee result of computing the matrix-vector product $b=AX$ by taking a linear combination of the columns of $A$. Use vector operations whenever possible. The value $B$ returned by your function can be a column vector or a row vector **just be sure that you return the same type of vector as you did in PART A**."
   ]
  },
  {
   "cell_type": "code",
   "execution_count": 6,
   "metadata": {},
   "outputs": [],
   "source": [
    "def axcol(A,x):\n",
    "    n = len(x)\n",
    "\n",
    "    b = 0\n",
    "    for j in range(n):\n",
    "        b += A[:,j]*x[j]\n",
    "    return b"
   ]
  },
  {
   "cell_type": "code",
   "execution_count": 7,
   "metadata": {},
   "outputs": [
    {
     "data": {
      "text/plain": [
       "array([3, 6, 9])"
      ]
     },
     "execution_count": 7,
     "metadata": {},
     "output_type": "execute_result"
    }
   ],
   "source": [
    "axcol(A,x)"
   ]
  },
  {
   "cell_type": "markdown",
   "metadata": {},
   "source": [
    "**PART C:** The time required for a numerical program to run on a computer is determined by the number of floating-point operations performed and by the cost of memory access. The cost of the floating-point operations can usually be determined analytically, but the cost of memory access can be harder to determine. The memory access cost depends on the amount of data used, the order in which the data is accessed, and the structure of the computer itself.\n",
    "\n",
    "The memory hierarchy of a typical cache-based computer includes, in order of increasing size and distance from the CPU: the registers, the caches, the main memory, and the disk. The time reequiired to access data from these components increases dramatically with distance from the CPU. For example, the access of a small amount of data from the cache may take as little as one clock cycle to complete, while the same access from main memory can take tens of clock cycles. (A clock cycle on a modern processor is typically on the order of a few nanoseconds.) The time to access the disk can be substantially longer, with access times growing into seconds or minutes in extreme cases. The access times grow proportionally as the amount of data increases.\n",
    "\n",
    "A good numerical program is thus structured to avoid disk access as much as possible, both by reducing the amount of data used and by organizing its access to make the best use of memory hierarchy. Best performance is achieved by programs that also move little data in and out of main memory. In this part of the problem, we'll study how to organize some matrix computations to minimize the amount of distant memory accessed by minimizing the amount of data moved.\n",
    "\n",
    "How to make optimal use of a memory hierarchy (particularly the caches) is a matter of active research. In this class, we'll be concerned primarily with the large order effects of reducing main memory or disk access.\n",
    "\n",
    "In computations involving matrices, performance is strongly dependent on how the matrix is stored. An $m\\times n$ matrix is stored as a one-dimensional array with $mn$ elements. The array is arranged either in _row-major order_ or in _column-major order_. A row-major storage scheme has the rows of the matrix stored one after the other as a vector, while the column-major scheme has the columns stored one after the other. For example, the row-major and the column-major schemes translate the following matrix\n",
    "$$A = \\begin{bmatrix} 1 & 2 & 3 \\\\ 4 & 5 & 6 \\\\ 7 & 8 & 9 \\end{bmatrix} $$\n",
    "\n",
    "into $v_r = \\begin{bmatrix} 1 & 2 & 3 & 4 & 5 & 6 & 7 & 8 & 9 \\end{bmatrix}$ and $v_c = \\begin{bmatrix} 1 & 4 & 7 & 2 & 5 & 8 & 3 & 6 & 9 \\end{bmatrix}$, respectively.\n",
    "\n",
    "An efficient matrix algebra routine uses the elements in the order as they appear in the one-dimensional array. Programs written in C use row-major order while programs written in Fortran use column-major order.\n",
    "\n",
    "We will run our own experiment to see whether Python/NumPy uses row-major order or column major order.\n",
    "\n",
    "---\n",
    "\n",
    "Fill in the `timing_test` function below to have it perform the following tasks:\n",
    "\n",
    "- Call your `axrow` function from above on the following matrix sizes (n):\n",
    "$$[100, 200, 500,1000,1500,2000,2500,5000]$$\n",
    "  Record the time it takes your function to execute for each dimension.\n",
    "  \n",
    "- Call your `axcol` function from above on the following matrix sizes (n):\n",
    "$$[100, 200, 500,1000,1500,2000,2500,5000]$$\n",
    "  Record the time it takes your function to execute for each dimension.\n",
    "  \n",
    "- Compute the matrix-vector product using the `numpy.dot()` function, again on the matrix sizes:\n",
    "$$[100, 200, 500,1000,1500,2000,2500,5000]$$\n",
    "  Record the time it takes this built-in function to execute for each dimension.\n",
    "  \n",
    "- Plot the matrix dimension by the corresponding times for each of the three function calls. Plot all three sets of values on the same axis. Include a legend in your plot. \n",
    "\n",
    "- Label the x-axis \"Matrix Dimension (n)\" and label the y-axis \"Time\"\n"
   ]
  },
  {
   "cell_type": "code",
   "execution_count": 8,
   "metadata": {},
   "outputs": [],
   "source": [
    "import time\n",
    "\n",
    "def timing_test():\n",
    "    \n",
    "    # Create a list of different array sizes to test the mat-vec timee for\n",
    "    \n",
    "    matrix_sizes = [100, 200, 500, 1000, 1500, 2000, 2500, 5000]\n",
    "    \n",
    "    axrow_times = []\n",
    "    \n",
    "    axcol_times = []\n",
    "    \n",
    "    numpy_times = []\n",
    "    \n",
    "    for size in matrix_sizes:\n",
    "        \n",
    "        matrix = np.ones((size, size))\n",
    "        vector = np.ones((size,1))\n",
    "        \n",
    "        t_begin_r = time.time()\n",
    "        axrow(matrix,vector)\n",
    "        t_elapsed_r = time.time()-t_begin_r\n",
    "        \n",
    "        axrow_times.append(t_elapsed_r)\n",
    "        \n",
    "        t_begin_c = time.time()\n",
    "        axcol(matrix,vector)\n",
    "        t_elapsed_c = time.time()-t_begin_c\n",
    "        \n",
    "        axcol_times.append(t_elapsed_c)\n",
    "        \n",
    "        t_begin_n = time.time()\n",
    "        np.dot(matrix,vector)\n",
    "        t_elapsed_n = time.time()-t_begin_n\n",
    "        \n",
    "        numpy_times.append(t_elapsed_n)\n",
    "        \n",
    "    return axrow_times,axcol_times,numpy_times\n",
    "\n",
    "    "
   ]
  },
  {
   "cell_type": "code",
   "execution_count": 9,
   "metadata": {},
   "outputs": [],
   "source": [
    "timer, timec, timen = timing_test()"
   ]
  },
  {
   "cell_type": "code",
   "execution_count": 12,
   "metadata": {},
   "outputs": [
    {
     "data": {
      "image/png": "[encoded data removed]",
      "text/plain": [
       "<Figure size 432x288 with 1 Axes>"
      ]
     },
     "metadata": {
      "needs_background": "light"
     },
     "output_type": "display_data"
    }
   ],
   "source": [
    "# Plotting\n",
    "\n",
    "import matplotlib.pyplot as plt\n",
    "\n",
    "matrix_sizes = [100, 200, 500, 1000, 1500, 2000, 2500, 5000]\n",
    "plt.plot(matrix_sizes,timer)\n",
    "plt.plot(matrix_sizes,timec)\n",
    "plt.plot(matrix_sizes,timen)\n",
    "plt.legend([\"Row\",\"Col\",\"Numpy\"])\n",
    "plt.xlabel(\"Matrix Dimension (n)\")\n",
    "plt.ylabel(\"Time\")\n",
    "plt.show()"
   ]
  },
  {
   "cell_type": "markdown",
   "metadata": {},
   "source": [
    "**PART D:** Using the plot that you generated in **PART C**, do you think that Python/NumPy uses row-major order or column-major order?"
   ]
  },
  {
   "cell_type": "markdown",
   "metadata": {},
   "source": [
    "**Solution:** Looks like row-major!"
   ]
  },
  {
   "cell_type": "markdown",
   "metadata": {},
   "source": [
    "**Extra Credit (1 point):** Execute the cell below to view an interesting bit of output. Now that we've run our experiment, how would you interpret the C_CONTIGUOUS and F_CONTIGUOUS flags?"
   ]
  },
  {
   "cell_type": "code",
   "execution_count": 11,
   "metadata": {},
   "outputs": [
    {
     "data": {
      "text/plain": [
       "  C_CONTIGUOUS : True\n",
       "  F_CONTIGUOUS : False\n",
       "  OWNDATA : True\n",
       "  WRITEABLE : True\n",
       "  ALIGNED : True\n",
       "  WRITEBACKIFCOPY : False\n",
       "  UPDATEIFCOPY : False"
      ]
     },
     "execution_count": 11,
     "metadata": {},
     "output_type": "execute_result"
    }
   ],
   "source": [
    "# An interesting bit of output to look at. Now that we've run our experiment, \n",
    "# how would you interpret the flags?\n",
    "import numpy as np\n",
    "A = np.ones((5,5))\n",
    "A.flags"
   ]
  },
  {
   "cell_type": "code",
   "execution_count": null,
   "metadata": {},
   "outputs": [],
   "source": []
  }
 ],
 "metadata": {
  "kernelspec": {
   "display_name": "Python 3",
   "language": "python",
   "name": "python3"
  },
  "language_info": {
   "codemirror_mode": {
    "name": "ipython",
    "version": 3
   },
   "file_extension": ".py",
   "mimetype": "text/x-python",
   "name": "python",
   "nbconvert_exporter": "python",
   "pygments_lexer": "ipython3",
   "version": "3.7.1"
  }
 },
 "nbformat": 4,
 "nbformat_minor": 2
}
